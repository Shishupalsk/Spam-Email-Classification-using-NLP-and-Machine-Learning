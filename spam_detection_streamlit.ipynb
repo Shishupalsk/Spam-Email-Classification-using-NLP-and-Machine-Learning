{
 "cells": [
  {
   "cell_type": "code",
   "execution_count": 24,
   "id": "8cac307f-5b72-4eac-91e7-9488d463062b",
   "metadata": {},
   "outputs": [],
   "source": [
    "import streamlit as st\n",
    "import pickle"
   ]
  },
  {
   "cell_type": "code",
   "execution_count": 27,
   "id": "d8b13ffe-ebfa-4bb0-8db9-b4a654e8b4d4",
   "metadata": {},
   "outputs": [],
   "source": [
    "model = pickle.load(open('spam07.pkl','rb'))\n",
    "cv = pickle.load(open('vec07.pkl','rb'))\n"
   ]
  },
  {
   "cell_type": "code",
   "execution_count": 28,
   "id": "4e104c9b-084e-413a-935c-f14d5fcf68cc",
   "metadata": {
    "scrolled": true
   },
   "outputs": [
    {
     "name": "stderr",
     "output_type": "stream",
     "text": [
      "2024-12-07 19:22:10.215 WARNING streamlit.runtime.scriptrunner_utils.script_run_context: Thread 'MainThread': missing ScriptRunContext! This warning can be ignored when running in bare mode.\n",
      "2024-12-07 19:22:12.608 \n",
      "  \u001b[33m\u001b[1mWarning:\u001b[0m to view this Streamlit app on a browser, run it with the following\n",
      "  command:\n",
      "\n",
      "    streamlit run C:\\Users\\hp\\AppData\\Local\\Programs\\Python\\Python313\\Lib\\site-packages\\ipykernel_launcher.py [ARGUMENTS]\n",
      "2024-12-07 19:22:12.615 Thread 'MainThread': missing ScriptRunContext! This warning can be ignored when running in bare mode.\n",
      "2024-12-07 19:22:12.622 Thread 'MainThread': missing ScriptRunContext! This warning can be ignored when running in bare mode.\n",
      "2024-12-07 19:22:12.624 Thread 'MainThread': missing ScriptRunContext! This warning can be ignored when running in bare mode.\n",
      "2024-12-07 19:22:12.629 Thread 'MainThread': missing ScriptRunContext! This warning can be ignored when running in bare mode.\n",
      "2024-12-07 19:22:12.635 Thread 'MainThread': missing ScriptRunContext! This warning can be ignored when running in bare mode.\n",
      "2024-12-07 19:22:12.637 Thread 'MainThread': missing ScriptRunContext! This warning can be ignored when running in bare mode.\n",
      "2024-12-07 19:22:12.639 Thread 'MainThread': missing ScriptRunContext! This warning can be ignored when running in bare mode.\n",
      "2024-12-07 19:22:12.641 Thread 'MainThread': missing ScriptRunContext! This warning can be ignored when running in bare mode.\n",
      "2024-12-07 19:22:12.644 Thread 'MainThread': missing ScriptRunContext! This warning can be ignored when running in bare mode.\n",
      "2024-12-07 19:22:12.651 Thread 'MainThread': missing ScriptRunContext! This warning can be ignored when running in bare mode.\n",
      "2024-12-07 19:22:12.660 Thread 'MainThread': missing ScriptRunContext! This warning can be ignored when running in bare mode.\n",
      "2024-12-07 19:22:12.662 Session state does not function when running a script without `streamlit run`\n",
      "2024-12-07 19:22:12.677 Thread 'MainThread': missing ScriptRunContext! This warning can be ignored when running in bare mode.\n",
      "2024-12-07 19:22:12.686 Thread 'MainThread': missing ScriptRunContext! This warning can be ignored when running in bare mode.\n",
      "2024-12-07 19:22:12.691 Thread 'MainThread': missing ScriptRunContext! This warning can be ignored when running in bare mode.\n",
      "2024-12-07 19:22:12.696 Thread 'MainThread': missing ScriptRunContext! This warning can be ignored when running in bare mode.\n",
      "2024-12-07 19:22:12.699 Thread 'MainThread': missing ScriptRunContext! This warning can be ignored when running in bare mode.\n",
      "2024-12-07 19:22:12.708 Thread 'MainThread': missing ScriptRunContext! This warning can be ignored when running in bare mode.\n",
      "2024-12-07 19:22:12.710 Thread 'MainThread': missing ScriptRunContext! This warning can be ignored when running in bare mode.\n"
     ]
    }
   ],
   "source": [
    "def main():\n",
    "    st.title(\"Email Spam Classification Application\")\n",
    "    st.write(\"This is a Machine Learning Application to classify emails as spam or ham.\")\n",
    "    st.subheader(\"Classification\")\n",
    "    user_input= st.text_area(\"Enter an email to classify\", height =150)\n",
    "    if st.button(\"Classify\"):\n",
    "        if user_input:\n",
    "            data =[user_input]\n",
    "            print(data)\n",
    "            vec=cv.transform(data).toarray()\n",
    "            result=model.predict(vec)\n",
    "            if result[0]==0:\n",
    "                st.success(\"This is Not A Spam Email\")\n",
    "            else:\n",
    "                st.error(\"This is A Spam Email\")\n",
    "        else:\n",
    "            st.write(\"Please enter an email to classify.\")\n",
    "main()            \n",
    "    "
   ]
  },
  {
   "cell_type": "code",
   "execution_count": null,
   "id": "8270553d-f2a9-4520-918b-9bdf3490b4ce",
   "metadata": {},
   "outputs": [],
   "source": []
  }
 ],
 "metadata": {
  "kernelspec": {
   "display_name": "Python 3 (ipykernel)",
   "language": "python",
   "name": "python3"
  },
  "language_info": {
   "codemirror_mode": {
    "name": "ipython",
    "version": 3
   },
   "file_extension": ".py",
   "mimetype": "text/x-python",
   "name": "python",
   "nbconvert_exporter": "python",
   "pygments_lexer": "ipython3",
   "version": "3.13.0"
  }
 },
 "nbformat": 4,
 "nbformat_minor": 5
}
